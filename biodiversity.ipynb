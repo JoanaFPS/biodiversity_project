{
 "cells": [
  {
   "cell_type": "code",
   "execution_count": null,
   "metadata": {},
   "outputs": [],
   "source": [
    "import pandas as pd\n",
    "import numpy as np\n",
    "from scipy.stats import chi2_contingency\n",
    "import re\n",
    "from itertools import chain\n",
    "\n",
    "from matplotlib import pyplot as plt\n",
    "import seaborn as sns\n",
    "%matplotlib inline"
   ]
  },
  {
   "cell_type": "code",
   "execution_count": null,
   "metadata": {},
   "outputs": [],
   "source": [
    "# Load the observations dataset\n",
    "species =  pd.read_csv('species_info.csv')\n",
    "species.head()"
   ]
  },
  {
   "cell_type": "code",
   "execution_count": null,
   "metadata": {},
   "outputs": [],
   "source": [
    "# Load the observations dataset\n",
    "observations =  pd.read_csv('observations.csv')\n",
    "observations.head()"
   ]
  },
  {
   "cell_type": "markdown",
   "metadata": {},
   "source": [
    "### Data Characteristics and Cleaning"
   ]
  },
  {
   "cell_type": "markdown",
   "metadata": {},
   "source": [
    "---\n",
    "#### Species File\n"
   ]
  },
  {
   "cell_type": "code",
   "execution_count": null,
   "metadata": {},
   "outputs": [],
   "source": [
    "# Check the dimensions of the species dataset (rows and columns)\n",
    "print(f'Species (rows, columns) = {species.shape}')"
   ]
  },
  {
   "cell_type": "code",
   "execution_count": null,
   "metadata": {},
   "outputs": [],
   "source": [
    "# Count the number of unique species \n",
    "print(f'Number of Species: {species.scientific_name.nunique()}')"
   ]
  },
  {
   "cell_type": "code",
   "execution_count": null,
   "metadata": {},
   "outputs": [],
   "source": [
    "# Check for missing values in species dataset\n",
    "print(f'Species file missing Values: \\n{species.isnull().sum()} \\n') \n",
    "# Check for duplicated rows in species dataset\n",
    "print(f'Species file duplicated Values: \\n{species.duplicated().sum()}')"
   ]
  },
  {
   "cell_type": "code",
   "execution_count": null,
   "metadata": {},
   "outputs": [],
   "source": [
    "# Explore the conservation_status column\n",
    "print(f'Conservation Status ({species.conservation_status.nunique()}) : {species.conservation_status.unique()} \\n')"
   ]
  },
  {
   "cell_type": "code",
   "execution_count": null,
   "metadata": {},
   "outputs": [],
   "source": [
    "# Fill missing values in the conservation_status column with \"No Intervention\"\n",
    "species.fillna('No Intervention', inplace = True)"
   ]
  },
  {
   "cell_type": "code",
   "execution_count": null,
   "metadata": {},
   "outputs": [],
   "source": [
    "# Explore the categories column\n",
    "print(f'Categories ({species.category.nunique()}) : {species.category.unique()} \\n')"
   ]
  },
  {
   "cell_type": "markdown",
   "metadata": {},
   "source": [
    "##### Cleaning the rows with same scientific_name"
   ]
  },
  {
   "cell_type": "code",
   "execution_count": null,
   "metadata": {},
   "outputs": [],
   "source": [
    "new_rows = []\n",
    "for _, row in species.iterrows():\n",
    "    common_names = row['common_names'].split(',')\n",
    "    for name in common_names:\n",
    "        new_row = row.copy()  \n",
    "        new_row['common_names'] = name  \n",
    "        new_rows.append(new_row)\n",
    "\n",
    "species = pd.DataFrame(new_rows)\n",
    "\n",
    "species.duplicated().sum()"
   ]
  },
  {
   "cell_type": "code",
   "execution_count": null,
   "metadata": {},
   "outputs": [],
   "source": [
    "species.drop_duplicates(inplace = True)\n",
    "\n",
    "species = species.groupby(['category', 'scientific_name', 'conservation_status'], as_index=False, sort = False)['common_names'].apply(lambda x: ', '.join(x))\n",
    "species = species[['category', 'scientific_name', 'common_names', 'conservation_status']]\n",
    "species.head()"
   ]
  },
  {
   "cell_type": "markdown",
   "metadata": {},
   "source": [
    "---\n",
    "#### Observations file\n"
   ]
  },
  {
   "cell_type": "code",
   "execution_count": null,
   "metadata": {},
   "outputs": [],
   "source": [
    "# Check the dimensions of the species dataset (rows and columns)\n",
    "print(f'Observations (rows, columns) = {observations.shape}')"
   ]
  },
  {
   "cell_type": "code",
   "execution_count": null,
   "metadata": {},
   "outputs": [],
   "source": [
    "# Count the number o observations\n",
    "print(f'Number of Observations: {observations.observations.sum()}')"
   ]
  },
  {
   "cell_type": "code",
   "execution_count": null,
   "metadata": {},
   "outputs": [],
   "source": [
    "# Check for missing values in observations dataset\n",
    "print(f'Observations file missing Values: \\n{observations.isnull().sum()} \\n')\n",
    "# Check for duplicated rows in observations dataset\n",
    "print(f'Observations file duplicated Values: \\n{observations.duplicated().sum()}')"
   ]
  },
  {
   "cell_type": "code",
   "execution_count": null,
   "metadata": {},
   "outputs": [],
   "source": [
    "# Drop duplicated rows from the observations dataset\n",
    "observations.drop_duplicates(inplace = True)"
   ]
  },
  {
   "cell_type": "code",
   "execution_count": null,
   "metadata": {},
   "outputs": [],
   "source": [
    "# Explore the park_name column \n",
    "print(f'Parks ({observations.park_name.nunique()}) : {observations.park_name.unique()} \\n')"
   ]
  },
  {
   "cell_type": "markdown",
   "metadata": {},
   "source": [
    "### Analysis"
   ]
  },
  {
   "cell_type": "code",
   "execution_count": null,
   "metadata": {},
   "outputs": [],
   "source": [
    "categories_distribution = species.groupby('category').size()\n",
    "categories_distribution"
   ]
  },
  {
   "cell_type": "code",
   "execution_count": null,
   "metadata": {},
   "outputs": [],
   "source": [
    "conservation_distribution = species.groupby('conservation_status')['scientific_name'].nunique()"
   ]
  },
  {
   "cell_type": "code",
   "execution_count": null,
   "metadata": {},
   "outputs": [],
   "source": [
    "total_observations_by_park = observations.groupby('park_name')['observations'].sum()\n",
    "total_observations_by_park"
   ]
  },
  {
   "cell_type": "code",
   "execution_count": null,
   "metadata": {},
   "outputs": [],
   "source": [
    "species_by_park = observations.groupby('park_name')['scientific_name'].nunique()\n",
    "species_by_park"
   ]
  },
  {
   "cell_type": "code",
   "execution_count": null,
   "metadata": {},
   "outputs": [],
   "source": [
    "# Filter species with a conservation status other than 'No Intervention'\n",
    "threatened_data = species[species['conservation_status'] != 'No Intervention']\n",
    "\n",
    "# Group by 'category' and 'conservation_status', and count unique species\n",
    "conservation_by_category = (\n",
    "    threatened_data.groupby(['category', 'conservation_status'])\n",
    "    ['scientific_name'].nunique()\n",
    "    .unstack()\n",
    ")\n",
    "\n",
    "\n",
    "conservation_by_category"
   ]
  },
  {
   "cell_type": "code",
   "execution_count": null,
   "metadata": {},
   "outputs": [],
   "source": [
    "chi2_cat, p_val, dof_cat, expected_cat = chi2_contingency(conservation_by_category.fillna(0))\n",
    "print(f'Conservation status by Category p-value: {p_val:.2e}')"
   ]
  },
  {
   "cell_type": "code",
   "execution_count": null,
   "metadata": {},
   "outputs": [],
   "source": [
    "palette = sns.color_palette('deep', n_colors = 4)\n",
    "\n",
    "plt.figure(figsize=(16,10))\n",
    "conservation_by_category.plot(kind = 'bar', stacked = True, color = palette)\n",
    "plt.title('Conservation Status by Category - Number of Species')\n",
    "plt.xlabel('Category')\n",
    "plt.ylabel('Number of Species')\n",
    "plt.tick_params(axis = 'x', rotation = 45)\n",
    "plt.legend(title = 'Conservation Status', bbox_to_anchor=(1.5, 0.5))\n",
    "\n",
    "plt.show()"
   ]
  },
  {
   "cell_type": "code",
   "execution_count": null,
   "metadata": {},
   "outputs": [],
   "source": [
    "threatened_merged_data = observations.merge(threatened_data, on = 'scientific_name')\n",
    "\n",
    "obs_by_cat_conservation = (\n",
    "    threatened_merged_data.groupby(['category', 'conservation_status'])['observations']\n",
    "    .sum()\n",
    "    .unstack()\n",
    ")\n",
    "\n",
    "obs_by_cat_conservation"
   ]
  },
  {
   "cell_type": "code",
   "execution_count": null,
   "metadata": {},
   "outputs": [],
   "source": [
    "plt.figure(figsize = (8,6))\n",
    "sns.heatmap(obs_by_cat_conservation, annot = True, fmt='.0f', linewidth=.8, cmap = 'Reds')\n",
    "\n",
    "plt.title('Observations by Conservation Status and Category', pad = 20)\n",
    "plt.xlabel('Conservation Status', labelpad = 15)\n",
    "plt.ylabel('Category', labelpad = 15)"
   ]
  },
  {
   "cell_type": "code",
   "execution_count": null,
   "metadata": {},
   "outputs": [],
   "source": [
    "merged_data = species.merge(observations, on = 'scientific_name').sort_values('observations', ascending = False).reset_index(drop = True)\n",
    "merged_data.head()"
   ]
  },
  {
   "cell_type": "code",
   "execution_count": null,
   "metadata": {},
   "outputs": [],
   "source": [
    "obs_cat_park = (\n",
    "    merged_data.groupby(['category', 'park_name'])['observations']\n",
    "    .sum()\n",
    "    .unstack()\n",
    ")\n",
    "obs_cat_park"
   ]
  },
  {
   "cell_type": "code",
   "execution_count": null,
   "metadata": {},
   "outputs": [],
   "source": [
    "plt.figure(figsize = (8,6))\n",
    "sns.heatmap(obs_cat_park, annot = True, fmt='.0f', linewidth=.8, cmap = 'Greens')\n",
    "\n",
    "plt.title('Observations by Category and Park', pad = 20)\n",
    "plt.xlabel('Park', labelpad = 10)\n",
    "plt.xticks(rotation = 45)\n",
    "plt.ylabel('Category', labelpad = 15)"
   ]
  },
  {
   "cell_type": "markdown",
   "metadata": {},
   "source": [
    "#### Conservation Status"
   ]
  },
  {
   "cell_type": "code",
   "execution_count": null,
   "metadata": {},
   "outputs": [],
   "source": [
    "species['protection_status'] = np.where(\n",
    "    species['conservation_status'] == 'No Intervention', \n",
    "    'Unprotected',\n",
    "    'Protected'\n",
    ")\n",
    "\n",
    "species.head()                                       "
   ]
  },
  {
   "cell_type": "code",
   "execution_count": null,
   "metadata": {},
   "outputs": [],
   "source": [
    "conservation = (\n",
    "    species.groupby(['category', 'protection_status'])['scientific_name']\n",
    "    .nunique()\n",
    "    .unstack()\n",
    "    .reset_index()\n",
    ")\n",
    "\n",
    "conservation.columns = (['Category', 'Protected', 'Unprotected'])\n",
    "conservation"
   ]
  },
  {
   "cell_type": "code",
   "execution_count": null,
   "metadata": {},
   "outputs": [],
   "source": [
    "data = conservation[['Protected', 'Unprotected']].values \n",
    "\n",
    "chi2_cat, pval, dof_cat, expected_cat = chi2_contingency(data)\n",
    "\n",
    "print(f'p value: {pval}')\n"
   ]
  },
  {
   "cell_type": "code",
   "execution_count": null,
   "metadata": {},
   "outputs": [],
   "source": [
    "fig, ax = plt.subplots(1, 2, figsize=(14, 6))\n",
    "\n",
    "#'Protected' plot\n",
    "ax[0].bar(conservation['Category'], conservation['Protected'], color = '#6a994e')\n",
    "ax[0].set_title('Protected Species by Category')\n",
    "ax[0].set_xlabel('Category')\n",
    "ax[0].set_ylabel('Number of Species')\n",
    "ax[0].tick_params(axis = 'x', rotation = 45)\n",
    "\n",
    "#'Unprotected' plot\n",
    "ax[1].bar(conservation['Category'], conservation['Unprotected'], color = '#c1121f')\n",
    "ax[1].set_title('Unprotected Species by Category')\n",
    "ax[1].set_xlabel('Category')\n",
    "ax[1].set_ylabel('Number of Species')\n",
    "ax[1].tick_params(axis = 'x', rotation = 45)\n",
    "\n",
    "plt.tight_layout()\n",
    "plt.show()\n"
   ]
  },
  {
   "cell_type": "markdown",
   "metadata": {},
   "source": [
    "### Study of species in the bird category\n"
   ]
  },
  {
   "cell_type": "code",
   "execution_count": null,
   "metadata": {},
   "outputs": [],
   "source": [
    "def remove_punctuation(text):\n",
    "    return re.sub(r'[^\\w\\s]', '', text)\n",
    "\n",
    "\n",
    "bird_species = species[species['category'] == 'Bird'].reset_index(drop = True)\n",
    "\n",
    "bird_common_names = (\n",
    "    bird_species.common_names\n",
    "    .apply(remove_punctuation)\n",
    "    .str.split()\n",
    "    .tolist()\n",
    ")"
   ]
  },
  {
   "cell_type": "code",
   "execution_count": null,
   "metadata": {},
   "outputs": [],
   "source": [
    "clean_bird_names = [list(dict.fromkeys(name)) for name in bird_common_names]\n",
    "\n",
    "bird_names = list(chain.from_iterable(i if isinstance(i, list) else [i] for i in clean_bird_names))"
   ]
  },
  {
   "cell_type": "code",
   "execution_count": null,
   "metadata": {},
   "outputs": [],
   "source": [
    "bird_names_series = pd.Series(bird_names)\n",
    "\n",
    "names_counted = (\n",
    "    bird_names_series.value_counts()\n",
    "    .reset_index()\n",
    ")\n",
    "\n",
    "names_counted.columns = ['Name', 'Count']\n",
    "\n",
    "birds_df = names_counted.sort_values('Count', ascending = False)\n",
    "birds_df.head()"
   ]
  },
  {
   "cell_type": "code",
   "execution_count": null,
   "metadata": {},
   "outputs": [],
   "source": [
    "bird_species['is_warbler'] = bird_species['common_names'].str.contains('Warbler')"
   ]
  },
  {
   "cell_type": "code",
   "execution_count": null,
   "metadata": {},
   "outputs": [],
   "source": [
    "warbler_birds = bird_species[bird_species.is_warbler]\n"
   ]
  },
  {
   "cell_type": "code",
   "execution_count": null,
   "metadata": {},
   "outputs": [],
   "source": [
    "warbler_observations = (\n",
    "    warbler_birds.merge(observations, on = 'scientific_name')\n",
    "    .sort_values('observations', ascending = False)\n",
    "    .reset_index(drop = True)\n",
    ")\n",
    "\n",
    "warbler_observations.head()"
   ]
  },
  {
   "cell_type": "code",
   "execution_count": null,
   "metadata": {},
   "outputs": [],
   "source": [
    "warbler_obs_by_park = (\n",
    "    warbler_observations.groupby(['park_name', 'protection_status'])['observations']\n",
    "    .sum()\n",
    "    .reset_index()\n",
    ")\n",
    "warbler_obs_by_park"
   ]
  },
  {
   "cell_type": "code",
   "execution_count": null,
   "metadata": {},
   "outputs": [],
   "source": [
    "colors = {'Protected': '#38b000', 'Unprotected': '#d00000'}\n",
    "\n",
    "plt.figure(figsize = (8,6))\n",
    "sns.barplot(x = 'park_name', y = 'observations', hue = 'protection_status', data = warbler_obs_by_park, palette = colors )\n",
    "\n",
    "plt.title('Observation of Warblers by park')\n",
    "plt.legend(title = 'Protection Status')\n",
    "plt.xlabel('Park', labelpad = 10)\n",
    "plt.xticks(rotation = 45)\n",
    "plt.ylabel('Observations', labelpad = 15)\n",
    "\n",
    "plt.show()"
   ]
  },
  {
   "cell_type": "markdown",
   "metadata": {},
   "source": [
    "### Conclusions\n",
    "- What is the distribution of conservation status for species?\n",
    "    The vast majority of species were not part of conservation programs (5,350 vs 191 species with protection status).\n",
    "- Are certain types of species more likely to be endangered?\n",
    "    Birds and Mammals had the highest numbers of protected species, with Birds showing the highest percentage of species under protection relative to their category size.\n",
    "- Are the differences between species and their conservation status significant?\n",
    "    Yes, statistical testing revealed highly significant relationships (p-value: 3.88e-05 for conservation status by category and p-value: 5.51e-89 for protection status by taxonomic category).\n",
    "- Which species group is most prevalent and what is their distribution amongst parks?\n",
    "    The study found that Vascular Plants occurred most frequently, comprising 4,262 species (77% of total diversity), and Yellowstone National Park showed the highest observation numbers across all categories with 1.44 million observations.\n"
   ]
  }
 ],
 "metadata": {
  "kernelspec": {
   "display_name": "Python 3 (ipykernel)",
   "language": "python",
   "name": "python3"
  },
  "language_info": {
   "codemirror_mode": {
    "name": "ipython",
    "version": 3
   },
   "file_extension": ".py",
   "mimetype": "text/x-python",
   "name": "python",
   "nbconvert_exporter": "python",
   "pygments_lexer": "ipython3",
   "version": "3.12.4"
  }
 },
 "nbformat": 4,
 "nbformat_minor": 4
}
